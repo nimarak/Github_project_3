{
 "cells": [
  {
   "cell_type": "markdown",
   "id": "ca66a57e-1c93-4373-9b93-dbb920fae271",
   "metadata": {
    "jp-MarkdownHeadingCollapsed": true
   },
   "source": [
    "# Load and cleaning"
   ]
  },
  {
   "cell_type": "code",
   "execution_count": null,
   "id": "e316ec2f-d704-4946-b96f-aadfe076f80d",
   "metadata": {
    "scrolled": true
   },
   "outputs": [],
   "source": [
    "import pandas as pd\n",
    "import numpy as np\n",
    "import matplotlib.pyplot as plt\n",
    "import seaborn as sns\n",
    "from sklearn.model_selection import train_test_split\n",
    "from sklearn.preprocessing import StandardScaler, OneHotEncoder, RobustScaler\n",
    "from sklearn.compose import ColumnTransformer\n",
    "from sklearn.pipeline import Pipeline\n",
    "from sklearn.ensemble import RandomForestRegressor, GradientBoostingRegressor\n",
    "from sklearn.linear_model import LinearRegression, Ridge, Lasso, ElasticNet\n",
    "\n",
    "from sklearn.model_selection import KFold\n",
    "from sklearn.model_selection import cross_val_score\n",
    "from xgboost import XGBRegressor\n",
    "from sklearn.metrics import mean_squared_error, r2_score\n",
    "from sklearn.model_selection import cross_val_score\n",
    "from sklearn.preprocessing import MinMaxScaler\n",
    "import xgboost as xgb\n",
    "import sklearn\n",
    "from sklearn.svm import SVR\n",
    "\n",
    "from sklearn.decomposition import PCA\n",
    "\n",
    "from sklearn.model_selection import KFold\n",
    "from sklearn.model_selection import cross_val_score\n",
    "\n",
    "# Load the dataset\n",
    "df = pd.read_csv('housing.csv')\n",
    "\n",
    "# Data Exploration\n",
    "print(df.describe())"
   ]
  },
  {
   "cell_type": "code",
   "execution_count": null,
   "id": "316136f1-d99d-4f47-8670-d6792ebed6f6",
   "metadata": {
    "scrolled": true
   },
   "outputs": [],
   "source": [
    "print(df.info())"
   ]
  },
  {
   "cell_type": "code",
   "execution_count": null,
   "id": "3dd0116b-aef6-4067-b64c-9d02a5adba11",
   "metadata": {},
   "outputs": [],
   "source": [
    "df=df.replace(to_replace=['no', 'yes'], value=[0, 1])"
   ]
  },
  {
   "cell_type": "code",
   "execution_count": null,
   "id": "130262aa-a50c-4c62-a244-32a96319551c",
   "metadata": {},
   "outputs": [],
   "source": [
    "df=pd.get_dummies(df).astype(int)"
   ]
  },
  {
   "cell_type": "code",
   "execution_count": null,
   "id": "aef22f00-e871-4d12-b433-53878c16d22c",
   "metadata": {},
   "outputs": [],
   "source": [
    "df"
   ]
  },
  {
   "cell_type": "markdown",
   "id": "65f1e0f7-09f7-44ac-b2b1-e483f18cd253",
   "metadata": {},
   "source": [
    "# EDA"
   ]
  },
  {
   "cell_type": "code",
   "execution_count": null,
   "id": "199c6c3c-af0b-4e39-bae5-80ff4ff6a6bf",
   "metadata": {},
   "outputs": [],
   "source": [
    "# Correlation matrix for numerical features\n",
    "numerical_features = ['price', 'bedrooms', 'bathrooms', 'stories', 'parking','area']\n",
    "corr_matrix = df[numerical_features].corr()\n",
    "plt.figure(figsize=(10, 8))\n",
    "sns.heatmap(corr_matrix, annot=True)\n",
    "plt.title('Correlation Matrix of Numerical Features')\n",
    "plt.show()"
   ]
  },
  {
   "cell_type": "code",
   "execution_count": null,
   "id": "3e3d2acf-2a6c-4213-944b-ae98accf50df",
   "metadata": {},
   "outputs": [],
   "source": [
    "plt.figure(figsize=(17,8))\n",
    "plt.subplot(1,2,1)\n",
    "plt.title('House Price Distribution Plot')\n",
    "sns.histplot(df['price'] / 1_000_000 )\n",
    "plt.xlabel('Price (Millions)', fontsize=12)\n",
    "\n",
    "plt.subplot(1,2,2)\n",
    "sns.boxplot(df['price'] / 1_000_000)\n",
    "plt.title('Distribution of Prices')\n",
    "plt.ylabel('Price (Millions)', fontsize=12)\n",
    "\n",
    "plt.show()"
   ]
  },
  {
   "cell_type": "code",
   "execution_count": null,
   "id": "58bf2478-f558-40bc-81bd-baeb505e3fa6",
   "metadata": {},
   "outputs": [],
   "source": [
    "# Visualize relationships between key features and price\n",
    "fig, axes = plt.subplots(2, 2, figsize=(10, 10))\n",
    "\n",
    "sns.boxplot(data=df, x='bedrooms', y=df['price'] / 1_000_000, ax=axes[0, 0])\n",
    "axes[0, 0].set_ylabel('Price (Millions)', fontsize=12)\n",
    "\n",
    "sns.boxplot(data=df, x='bathrooms', y=df['price'] / 1_000_000, ax=axes[0, 1])\n",
    "axes[0, 1].set_ylabel('Price (Millions)', fontsize=12)\n",
    "\n",
    "sns.boxplot(data=df, x='stories', y=df['price'] / 1_000_000, ax=axes[1, 0])\n",
    "axes[1, 0].set_ylabel('Price (Millions)', fontsize=12)\n",
    "\n",
    "sns.boxplot(data=df, x='parking', y=df['price'] / 1_000_000, ax=axes[1, 1])\n",
    "axes[1, 1].set_ylabel('Price (Millions)', fontsize=12)\n",
    "\n",
    "# Add titles to each subplot\n",
    "axes[0, 0].set_title('Bedrooms vs Price', fontsize=14)\n",
    "axes[0, 1].set_title('Bathrooms vs Price', fontsize=14)\n",
    "axes[1, 0].set_title('Stories vs Price', fontsize=14)\n",
    "axes[1, 1].set_title('Parking vs Price', fontsize=14)\n",
    "\n",
    "plt.tight_layout()\n",
    "plt.show()"
   ]
  },
  {
   "cell_type": "code",
   "execution_count": null,
   "id": "aa7d28cc-7518-44a5-95e8-0b4c31bfc8d2",
   "metadata": {},
   "outputs": [],
   "source": [
    "#scatter plot area/price\n",
    "plt.figure(figsize=(10, 8))\n",
    "plt.ylabel('Price (Millions)', fontsize=12)\n",
    "plt.xlabel('Area', fontsize=12)\n",
    "\n",
    "plt.scatter(df['area'],df['price'] / 1_000_000)\n",
    "plt.show()"
   ]
  }
 ],
 "metadata": {
  "kernelspec": {
   "display_name": "Python 3 (ipykernel)",
   "language": "python",
   "name": "python3"
  },
  "language_info": {
   "codemirror_mode": {
    "name": "ipython",
    "version": 3
   },
   "file_extension": ".py",
   "mimetype": "text/x-python",
   "name": "python",
   "nbconvert_exporter": "python",
   "pygments_lexer": "ipython3",
   "version": "3.9.17"
  }
 },
 "nbformat": 4,
 "nbformat_minor": 5
}
